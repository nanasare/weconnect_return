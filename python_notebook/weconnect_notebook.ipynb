{
 "cells": [
  {
   "cell_type": "markdown",
   "metadata": {},
   "source": [
    "# Python Portion of Take Home"
   ]
  },
  {
   "cell_type": "code",
   "execution_count": 1,
   "metadata": {},
   "outputs": [],
   "source": [
    "import pandas as pd\n",
    "%matplotlib inline\n",
    "import numpy as np\n",
    "import matplotlib.pyplot as plt \n",
    "import getpass\n",
    "import warnings\n",
    "warnings.filterwarnings(\"ignore\")"
   ]
  },
  {
   "cell_type": "code",
   "execution_count": 2,
   "metadata": {},
   "outputs": [
    {
     "name": "stdout",
     "output_type": "stream",
     "text": [
      "Path: ········\n"
     ]
    }
   ],
   "source": [
    "path  = getpass.getpass(prompt=\"Path: \")"
   ]
  },
  {
   "cell_type": "markdown",
   "metadata": {},
   "source": [
    "### Data Preparation"
   ]
  },
  {
   "cell_type": "code",
   "execution_count": 3,
   "metadata": {},
   "outputs": [],
   "source": [
    "#Extracting information for labeling columns\n",
    "carriers_c = pd.read_csv('{}carriers_table.csv'.format(path),header='infer')\n",
    "flights_small_c = pd.read_csv('{}flights_table.csv'.format(path),header='infer')\n",
    "weekdays_c = pd.read_csv('{}weekdays_table.csv'.format(path),header='infer')\n",
    "months_c = pd.read_csv('{}months_table.csv'.format(path),header='infer')"
   ]
  },
  {
   "cell_type": "code",
   "execution_count": 4,
   "metadata": {},
   "outputs": [],
   "source": [
    "#Using information from the previous cell to name columns\n",
    "carriers = pd.read_csv('{}carriers.csv'.format(path))\n",
    "carriers.columns = list(carriers_c.columns.values)\n",
    "\n",
    "flights_small = pd.read_csv('{}flights-small.csv'.format(path))\n",
    "flights_small.columns = list(flights_small_c.columns.values)\n",
    "flights_small.rename(columns={'day_of_week_id':'did'},inplace=True)\n",
    "\n",
    "weekdays = pd.read_csv('{}weekdays.csv'.format(path))\n",
    "weekdays.columns = list(weekdays_c.columns.values)\n",
    "add = pd.DataFrame([[1,'Monday']],columns=['did','day_of_week'])\n",
    "weekdays = weekdays.append(add)"
   ]
  },
  {
   "cell_type": "markdown",
   "metadata": {},
   "source": [
    "# * Q1"
   ]
  },
  {
   "cell_type": "code",
   "execution_count": 5,
   "metadata": {},
   "outputs": [
    {
     "data": {
      "text/html": [
       "<div>\n",
       "<style scoped>\n",
       "    .dataframe tbody tr th:only-of-type {\n",
       "        vertical-align: middle;\n",
       "    }\n",
       "\n",
       "    .dataframe tbody tr th {\n",
       "        vertical-align: top;\n",
       "    }\n",
       "\n",
       "    .dataframe thead th {\n",
       "        text-align: right;\n",
       "    }\n",
       "</style>\n",
       "<table border=\"1\" class=\"dataframe\">\n",
       "  <thead>\n",
       "    <tr style=\"text-align: right;\">\n",
       "      <th></th>\n",
       "      <th>carrier_id</th>\n",
       "      <th>price</th>\n",
       "    </tr>\n",
       "  </thead>\n",
       "  <tbody>\n",
       "    <tr>\n",
       "      <th>0</th>\n",
       "      <td>AA</td>\n",
       "      <td>991</td>\n",
       "    </tr>\n",
       "    <tr>\n",
       "      <th>1</th>\n",
       "      <td>B6</td>\n",
       "      <td>996</td>\n",
       "    </tr>\n",
       "    <tr>\n",
       "      <th>2</th>\n",
       "      <td>DL</td>\n",
       "      <td>999</td>\n",
       "    </tr>\n",
       "  </tbody>\n",
       "</table>\n",
       "</div>"
      ],
      "text/plain": [
       "  carrier_id  price\n",
       "0         AA    991\n",
       "1         B6    996\n",
       "2         DL    999"
      ]
     },
     "execution_count": 5,
     "metadata": {},
     "output_type": "execute_result"
    }
   ],
   "source": [
    "#Selecting relevant columns from flights table\n",
    "max_flight = flights_small[['carrier_id','origin_city','dest_city','price']]\n",
    "\n",
    "#Cleaning up city names and converting to lower case for consistency\n",
    "max_flight['origin_city'] = max_flight['origin_city'].map(lambda x:x[:-3].lower())\n",
    "max_flight['dest_city'] = max_flight['dest_city'].map(lambda x:x[:-3].lower())\n",
    "\n",
    "#Selecting flights between seattle and new york \n",
    "a = max_flight[(max_flight['origin_city']=='seattle') & (max_flight['dest_city']=='new york')]\n",
    "b = max_flight[(max_flight['dest_city']=='seattle') & (max_flight['origin_city']=='new york')]\n",
    "max_price = pd.concat([a,b],axis=0)[['carrier_id','price']].groupby('carrier_id').max().reset_index()\n",
    "max_price"
   ]
  },
  {
   "cell_type": "code",
   "execution_count": 6,
   "metadata": {},
   "outputs": [
    {
     "data": {
      "text/plain": [
       "Text(0.5, 1.0, 'Maximum Price across Carriers')"
      ]
     },
     "execution_count": 6,
     "metadata": {},
     "output_type": "execute_result"
    },
    {
     "data": {
      "image/png": "[encoded data removed]",
      "text/plain": [
       "<Figure size 432x288 with 1 Axes>"
      ]
     },
     "metadata": {
      "needs_background": "light"
     },
     "output_type": "display_data"
    }
   ],
   "source": [
    "cid = list(max_price.carrier_id)\n",
    "y_pos = np.arange(len(cid))\n",
    "price = list(max_price.price)\n",
    "\n",
    "plt.bar(y_pos, price, align='center', alpha=0.5)\n",
    "plt.xticks(y_pos, cid)\n",
    "plt.ylabel('Ticket Price ($)')\n",
    "plt.xlabel('Carrier')\n",
    "plt.title('Maximum Price across Carriers')"
   ]
  },
  {
   "cell_type": "markdown",
   "metadata": {},
   "source": [
    "# *Q2\n",
    "* I assumed that 'AS' is the carrier id for Alaska Airline"
   ]
  },
  {
   "cell_type": "code",
   "execution_count": 7,
   "metadata": {},
   "outputs": [],
   "source": [
    "#Merge weekdays data with main data\n",
    "merged = pd.merge(flights_small,weekdays,how='left',on='did')\n",
    "\n",
    "#Cleaning up city names and converting to lower case for consistency\n",
    "merged['origin_city'] = merged['origin_city'].map(lambda x:x[:-3].lower())\n",
    "merged['dest_city'] = merged['dest_city'].map(lambda x:x[:-3].lower())\n",
    "\n",
    "#select relevant columns\n",
    "merged = merged[['carrier_id','origin_city','dest_city','day_of_week','price']]\n",
    "sel_merged = merged[(merged['carrier_id']=='AS') & (merged['origin_city']=='seattle') & (merged['dest_city']=='boston')]"
   ]
  },
  {
   "cell_type": "code",
   "execution_count": 8,
   "metadata": {},
   "outputs": [
    {
     "name": "stdout",
     "output_type": "stream",
     "text": [
      "<class 'pandas.core.frame.DataFrame'>\n",
      "Int64Index: 155 entries, 60106 to 788583\n",
      "Data columns (total 5 columns):\n",
      "carrier_id     155 non-null object\n",
      "origin_city    155 non-null object\n",
      "dest_city      155 non-null object\n",
      "day_of_week    155 non-null object\n",
      "price          155 non-null int64\n",
      "dtypes: int64(1), object(4)\n",
      "memory usage: 4.8+ KB\n"
     ]
    }
   ],
   "source": [
    "#checking for missing data\n",
    "sel_merged.info()"
   ]
  },
  {
   "cell_type": "code",
   "execution_count": 9,
   "metadata": {},
   "outputs": [
    {
     "data": {
      "text/html": [
       "<div>\n",
       "<style scoped>\n",
       "    .dataframe tbody tr th:only-of-type {\n",
       "        vertical-align: middle;\n",
       "    }\n",
       "\n",
       "    .dataframe tbody tr th {\n",
       "        vertical-align: top;\n",
       "    }\n",
       "\n",
       "    .dataframe thead th {\n",
       "        text-align: right;\n",
       "    }\n",
       "</style>\n",
       "<table border=\"1\" class=\"dataframe\">\n",
       "  <thead>\n",
       "    <tr style=\"text-align: right;\">\n",
       "      <th></th>\n",
       "      <th>day_of_week</th>\n",
       "      <th>price</th>\n",
       "    </tr>\n",
       "  </thead>\n",
       "  <tbody>\n",
       "    <tr>\n",
       "      <th>0</th>\n",
       "      <td>Friday</td>\n",
       "      <td>536.80</td>\n",
       "    </tr>\n",
       "    <tr>\n",
       "      <th>1</th>\n",
       "      <td>Monday</td>\n",
       "      <td>519.20</td>\n",
       "    </tr>\n",
       "    <tr>\n",
       "      <th>2</th>\n",
       "      <td>Saturday</td>\n",
       "      <td>725.16</td>\n",
       "    </tr>\n",
       "    <tr>\n",
       "      <th>3</th>\n",
       "      <td>Sunday</td>\n",
       "      <td>563.08</td>\n",
       "    </tr>\n",
       "    <tr>\n",
       "      <th>4</th>\n",
       "      <td>Thursday</td>\n",
       "      <td>524.95</td>\n",
       "    </tr>\n",
       "    <tr>\n",
       "      <th>5</th>\n",
       "      <td>Tuesday</td>\n",
       "      <td>544.50</td>\n",
       "    </tr>\n",
       "    <tr>\n",
       "      <th>6</th>\n",
       "      <td>Wednesday</td>\n",
       "      <td>538.55</td>\n",
       "    </tr>\n",
       "  </tbody>\n",
       "</table>\n",
       "</div>"
      ],
      "text/plain": [
       "  day_of_week   price\n",
       "0      Friday  536.80\n",
       "1      Monday  519.20\n",
       "2    Saturday  725.16\n",
       "3      Sunday  563.08\n",
       "4    Thursday  524.95\n",
       "5     Tuesday  544.50\n",
       "6   Wednesday  538.55"
      ]
     },
     "execution_count": 9,
     "metadata": {},
     "output_type": "execute_result"
    }
   ],
   "source": [
    "#Aggregating by day of the week\n",
    "table_dow = sel_merged[['day_of_week','price']].groupby('day_of_week').mean().reset_index()\n",
    "table_dow"
   ]
  },
  {
   "cell_type": "code",
   "execution_count": 10,
   "metadata": {},
   "outputs": [
    {
     "data": {
      "text/plain": [
       "Text(0.5, 1.0, 'Average Ticket Price by Day of Week')"
      ]
     },
     "execution_count": 10,
     "metadata": {},
     "output_type": "execute_result"
    },
    {
     "data": {
      "image/png": "[encoded data removed]",
      "text/plain": [
       "<Figure size 432x288 with 1 Axes>"
      ]
     },
     "metadata": {
      "needs_background": "light"
     },
     "output_type": "display_data"
    }
   ],
   "source": [
    "cid = list(table_dow.day_of_week.map(lambda x:x[:3])) #shorting names\n",
    "y_pos = np.arange(len(cid))\n",
    "price = list(table_dow.price)\n",
    "\n",
    "plt.bar(y_pos, price, align='center', alpha=0.5)\n",
    "plt.xticks(y_pos, cid)\n",
    "plt.ylabel('Ticket Price ($)')\n",
    "plt.title('Average Ticket Price by Day of Week')"
   ]
  },
  {
   "cell_type": "markdown",
   "metadata": {},
   "source": [
    "# *Q3"
   ]
  },
  {
   "cell_type": "markdown",
   "metadata": {},
   "source": [
    "#### Assumptions\n",
    "* Cost is not a constraint\n",
    "* Actual time accounts for departure and arrival delays"
   ]
  },
  {
   "cell_type": "code",
   "execution_count": 11,
   "metadata": {},
   "outputs": [
    {
     "data": {
      "text/html": [
       "<div>\n",
       "<style scoped>\n",
       "    .dataframe tbody tr th:only-of-type {\n",
       "        vertical-align: middle;\n",
       "    }\n",
       "\n",
       "    .dataframe tbody tr th {\n",
       "        vertical-align: top;\n",
       "    }\n",
       "\n",
       "    .dataframe thead th {\n",
       "        text-align: right;\n",
       "    }\n",
       "</style>\n",
       "<table border=\"1\" class=\"dataframe\">\n",
       "  <thead>\n",
       "    <tr style=\"text-align: right;\">\n",
       "      <th></th>\n",
       "      <th>fid</th>\n",
       "      <th>month_id</th>\n",
       "      <th>day_of_month</th>\n",
       "      <th>did</th>\n",
       "      <th>carrier_id</th>\n",
       "      <th>flight_num</th>\n",
       "      <th>origin_city</th>\n",
       "      <th>origin_state</th>\n",
       "      <th>dest_city</th>\n",
       "      <th>dest_state</th>\n",
       "      <th>departure_delay</th>\n",
       "      <th>taxi_out</th>\n",
       "      <th>arrival_delay</th>\n",
       "      <th>canceled</th>\n",
       "      <th>actual_time</th>\n",
       "      <th>distance</th>\n",
       "      <th>capacity</th>\n",
       "      <th>price</th>\n",
       "    </tr>\n",
       "  </thead>\n",
       "  <tbody>\n",
       "    <tr>\n",
       "      <th>0</th>\n",
       "      <td>2</td>\n",
       "      <td>7</td>\n",
       "      <td>2</td>\n",
       "      <td>6</td>\n",
       "      <td>AA</td>\n",
       "      <td>1</td>\n",
       "      <td>New York NY</td>\n",
       "      <td>New York</td>\n",
       "      <td>Los Angeles CA</td>\n",
       "      <td>California</td>\n",
       "      <td>-7</td>\n",
       "      <td>13</td>\n",
       "      <td>-10</td>\n",
       "      <td>0</td>\n",
       "      <td>344</td>\n",
       "      <td>2475</td>\n",
       "      <td>11</td>\n",
       "      <td>817</td>\n",
       "    </tr>\n",
       "    <tr>\n",
       "      <th>1</th>\n",
       "      <td>3</td>\n",
       "      <td>7</td>\n",
       "      <td>3</td>\n",
       "      <td>7</td>\n",
       "      <td>AA</td>\n",
       "      <td>1</td>\n",
       "      <td>New York NY</td>\n",
       "      <td>New York</td>\n",
       "      <td>Los Angeles CA</td>\n",
       "      <td>California</td>\n",
       "      <td>-1</td>\n",
       "      <td>17</td>\n",
       "      <td>-4</td>\n",
       "      <td>0</td>\n",
       "      <td>344</td>\n",
       "      <td>2475</td>\n",
       "      <td>14</td>\n",
       "      <td>789</td>\n",
       "    </tr>\n",
       "    <tr>\n",
       "      <th>2</th>\n",
       "      <td>4</td>\n",
       "      <td>7</td>\n",
       "      <td>4</td>\n",
       "      <td>1</td>\n",
       "      <td>AA</td>\n",
       "      <td>1</td>\n",
       "      <td>New York NY</td>\n",
       "      <td>New York</td>\n",
       "      <td>Los Angeles CA</td>\n",
       "      <td>California</td>\n",
       "      <td>-9</td>\n",
       "      <td>20</td>\n",
       "      <td>17</td>\n",
       "      <td>0</td>\n",
       "      <td>373</td>\n",
       "      <td>2475</td>\n",
       "      <td>3</td>\n",
       "      <td>523</td>\n",
       "    </tr>\n",
       "  </tbody>\n",
       "</table>\n",
       "</div>"
      ],
      "text/plain": [
       "   fid  month_id  day_of_month  did carrier_id  flight_num  origin_city  \\\n",
       "0    2         7             2    6         AA           1  New York NY   \n",
       "1    3         7             3    7         AA           1  New York NY   \n",
       "2    4         7             4    1         AA           1  New York NY   \n",
       "\n",
       "  origin_state       dest_city  dest_state  departure_delay  taxi_out  \\\n",
       "0     New York  Los Angeles CA  California               -7        13   \n",
       "1     New York  Los Angeles CA  California               -1        17   \n",
       "2     New York  Los Angeles CA  California               -9        20   \n",
       "\n",
       "   arrival_delay  canceled  actual_time  distance  capacity  price  \n",
       "0            -10         0          344      2475        11    817  \n",
       "1             -4         0          344      2475        14    789  \n",
       "2             17         0          373      2475         3    523  "
      ]
     },
     "execution_count": 11,
     "metadata": {},
     "output_type": "execute_result"
    }
   ],
   "source": [
    "# Inspecting the data set\n",
    "flights_small.head(3)"
   ]
  },
  {
   "cell_type": "code",
   "execution_count": 12,
   "metadata": {},
   "outputs": [
    {
     "data": {
      "text/html": [
       "<div>\n",
       "<style scoped>\n",
       "    .dataframe tbody tr th:only-of-type {\n",
       "        vertical-align: middle;\n",
       "    }\n",
       "\n",
       "    .dataframe tbody tr th {\n",
       "        vertical-align: top;\n",
       "    }\n",
       "\n",
       "    .dataframe thead th {\n",
       "        text-align: right;\n",
       "    }\n",
       "</style>\n",
       "<table border=\"1\" class=\"dataframe\">\n",
       "  <thead>\n",
       "    <tr style=\"text-align: right;\">\n",
       "      <th></th>\n",
       "      <th>carrier_id</th>\n",
       "      <th>flight_num</th>\n",
       "      <th>origin_city</th>\n",
       "      <th>dest_city</th>\n",
       "      <th>departure_delay</th>\n",
       "      <th>arrival_delay</th>\n",
       "      <th>actual_time</th>\n",
       "      <th>distance</th>\n",
       "    </tr>\n",
       "  </thead>\n",
       "  <tbody>\n",
       "    <tr>\n",
       "      <th>0</th>\n",
       "      <td>AA</td>\n",
       "      <td>1070</td>\n",
       "      <td>Seattle WA</td>\n",
       "      <td>Miami FL</td>\n",
       "      <td>-2</td>\n",
       "      <td>-6</td>\n",
       "      <td>342</td>\n",
       "      <td>2724</td>\n",
       "    </tr>\n",
       "    <tr>\n",
       "      <th>1</th>\n",
       "      <td>AA</td>\n",
       "      <td>1070</td>\n",
       "      <td>Seattle WA</td>\n",
       "      <td>Miami FL</td>\n",
       "      <td>5</td>\n",
       "      <td>-8</td>\n",
       "      <td>333</td>\n",
       "      <td>2724</td>\n",
       "    </tr>\n",
       "    <tr>\n",
       "      <th>2</th>\n",
       "      <td>AA</td>\n",
       "      <td>1070</td>\n",
       "      <td>Seattle WA</td>\n",
       "      <td>Miami FL</td>\n",
       "      <td>-3</td>\n",
       "      <td>9</td>\n",
       "      <td>358</td>\n",
       "      <td>2724</td>\n",
       "    </tr>\n",
       "    <tr>\n",
       "      <th>3</th>\n",
       "      <td>AA</td>\n",
       "      <td>1070</td>\n",
       "      <td>Seattle WA</td>\n",
       "      <td>Miami FL</td>\n",
       "      <td>-2</td>\n",
       "      <td>-1</td>\n",
       "      <td>347</td>\n",
       "      <td>2724</td>\n",
       "    </tr>\n",
       "    <tr>\n",
       "      <th>4</th>\n",
       "      <td>AA</td>\n",
       "      <td>1070</td>\n",
       "      <td>Seattle WA</td>\n",
       "      <td>Miami FL</td>\n",
       "      <td>0</td>\n",
       "      <td>4</td>\n",
       "      <td>350</td>\n",
       "      <td>2724</td>\n",
       "    </tr>\n",
       "  </tbody>\n",
       "</table>\n",
       "</div>"
      ],
      "text/plain": [
       "  carrier_id  flight_num origin_city dest_city  departure_delay  \\\n",
       "0         AA        1070  Seattle WA  Miami FL               -2   \n",
       "1         AA        1070  Seattle WA  Miami FL                5   \n",
       "2         AA        1070  Seattle WA  Miami FL               -3   \n",
       "3         AA        1070  Seattle WA  Miami FL               -2   \n",
       "4         AA        1070  Seattle WA  Miami FL                0   \n",
       "\n",
       "   arrival_delay  actual_time  distance  \n",
       "0             -6          342      2724  \n",
       "1             -8          333      2724  \n",
       "2              9          358      2724  \n",
       "3             -1          347      2724  \n",
       "4              4          350      2724  "
      ]
     },
     "execution_count": 12,
     "metadata": {},
     "output_type": "execute_result"
    }
   ],
   "source": [
    "#Select relevant columns\n",
    "far_travel = flights_small[['carrier_id','flight_num','origin_city','dest_city','departure_delay','arrival_delay','actual_time','distance']]\n",
    "long_distance = far_travel[far_travel.origin_city=='Seattle WA'].sort_values('distance',ascending=False).reset_index()\n",
    "long_distance = long_distance.drop(['index'],axis=1)\n",
    "long_distance.head()"
   ]
  },
  {
   "cell_type": "code",
   "execution_count": 13,
   "metadata": {},
   "outputs": [
    {
     "data": {
      "text/html": [
       "<div>\n",
       "<style scoped>\n",
       "    .dataframe tbody tr th:only-of-type {\n",
       "        vertical-align: middle;\n",
       "    }\n",
       "\n",
       "    .dataframe tbody tr th {\n",
       "        vertical-align: top;\n",
       "    }\n",
       "\n",
       "    .dataframe thead th {\n",
       "        text-align: right;\n",
       "    }\n",
       "</style>\n",
       "<table border=\"1\" class=\"dataframe\">\n",
       "  <thead>\n",
       "    <tr style=\"text-align: right;\">\n",
       "      <th></th>\n",
       "      <th>carrier_id</th>\n",
       "      <th>flight_num</th>\n",
       "      <th>origin_city</th>\n",
       "      <th>dest_city</th>\n",
       "      <th>departure_delay</th>\n",
       "      <th>arrival_delay</th>\n",
       "      <th>actual_time</th>\n",
       "      <th>distance</th>\n",
       "    </tr>\n",
       "  </thead>\n",
       "  <tbody>\n",
       "    <tr>\n",
       "      <th>28</th>\n",
       "      <td>AA</td>\n",
       "      <td>1070</td>\n",
       "      <td>Seattle WA</td>\n",
       "      <td>Miami FL</td>\n",
       "      <td>0</td>\n",
       "      <td>0</td>\n",
       "      <td>0</td>\n",
       "      <td>2724</td>\n",
       "    </tr>\n",
       "    <tr>\n",
       "      <th>9</th>\n",
       "      <td>AS</td>\n",
       "      <td>16</td>\n",
       "      <td>Seattle WA</td>\n",
       "      <td>Miami FL</td>\n",
       "      <td>44</td>\n",
       "      <td>29</td>\n",
       "      <td>323</td>\n",
       "      <td>2724</td>\n",
       "    </tr>\n",
       "    <tr>\n",
       "      <th>21</th>\n",
       "      <td>AA</td>\n",
       "      <td>1070</td>\n",
       "      <td>Seattle WA</td>\n",
       "      <td>Miami FL</td>\n",
       "      <td>10</td>\n",
       "      <td>-12</td>\n",
       "      <td>324</td>\n",
       "      <td>2724</td>\n",
       "    </tr>\n",
       "    <tr>\n",
       "      <th>5</th>\n",
       "      <td>AS</td>\n",
       "      <td>16</td>\n",
       "      <td>Seattle WA</td>\n",
       "      <td>Miami FL</td>\n",
       "      <td>3</td>\n",
       "      <td>-4</td>\n",
       "      <td>331</td>\n",
       "      <td>2724</td>\n",
       "    </tr>\n",
       "    <tr>\n",
       "      <th>18</th>\n",
       "      <td>AA</td>\n",
       "      <td>1070</td>\n",
       "      <td>Seattle WA</td>\n",
       "      <td>Miami FL</td>\n",
       "      <td>-2</td>\n",
       "      <td>-17</td>\n",
       "      <td>331</td>\n",
       "      <td>2724</td>\n",
       "    </tr>\n",
       "  </tbody>\n",
       "</table>\n",
       "</div>"
      ],
      "text/plain": [
       "   carrier_id  flight_num origin_city dest_city  departure_delay  \\\n",
       "28         AA        1070  Seattle WA  Miami FL                0   \n",
       "9          AS          16  Seattle WA  Miami FL               44   \n",
       "21         AA        1070  Seattle WA  Miami FL               10   \n",
       "5          AS          16  Seattle WA  Miami FL                3   \n",
       "18         AA        1070  Seattle WA  Miami FL               -2   \n",
       "\n",
       "    arrival_delay  actual_time  distance  \n",
       "28              0            0      2724  \n",
       "9              29          323      2724  \n",
       "21            -12          324      2724  \n",
       "5              -4          331      2724  \n",
       "18            -17          331      2724  "
      ]
     },
     "execution_count": 13,
     "metadata": {},
     "output_type": "execute_result"
    }
   ],
   "source": [
    "#From the above, multiple flights are tied\n",
    "top_flights = long_distance[(long_distance.distance==2724)].sort_values('actual_time')\n",
    "top_flights.head()"
   ]
  },
  {
   "cell_type": "code",
   "execution_count": 14,
   "metadata": {},
   "outputs": [
    {
     "name": "stdout",
     "output_type": "stream",
     "text": [
      "carrier_id       AS\n",
      "flight_num       16\n",
      "actual_time     323\n",
      "distance       2724\n",
      "Name: 9, dtype: object\n"
     ]
    }
   ],
   "source": [
    "#Since the first row is obviously incorrect, let's remove it\n",
    "top_flights = top_flights[(long_distance.actual_time>0)]\n",
    "\n",
    "#Answer\n",
    "print (top_flights[['carrier_id','flight_num','actual_time','distance']].iloc[0])"
   ]
  },
  {
   "cell_type": "markdown",
   "metadata": {},
   "source": [
    "If we had enough data for both AS 16 and AA 1070, we could have compared their averages (t-test) to determine which one has the \n",
    "lower time."
   ]
  }
 ],
 "metadata": {
  "kernelspec": {
   "display_name": "Python 3",
   "language": "python",
   "name": "python3"
  },
  "language_info": {
   "codemirror_mode": {
    "name": "ipython",
    "version": 3
   },
   "file_extension": ".py",
   "mimetype": "text/x-python",
   "name": "python",
   "nbconvert_exporter": "python",
   "pygments_lexer": "ipython3",
   "version": "3.7.3"
  }
 },
 "nbformat": 4,
 "nbformat_minor": 2
}
